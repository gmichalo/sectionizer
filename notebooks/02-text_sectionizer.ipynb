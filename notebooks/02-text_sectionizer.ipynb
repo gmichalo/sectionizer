{
 "cells": [
  {
   "cell_type": "markdown",
   "metadata": {},
   "source": [
    "# TextSectionizer\n",
    "Sometimes, you may not want to process an entire document with spaCy. You may instead want to extract specific sections and then process them independently. To do this, you can use the `TextSectionizer` and process a text. Just like the `Sectionizer`, this class comes with default patterns which can be modified or added to."
   ]
  },
  {
   "cell_type": "code",
   "execution_count": 1,
   "metadata": {},
   "outputs": [],
   "source": [
    "with open(\"./example_discharge_summary.txt\") as f:\n",
    "    text = f.read()"
   ]
  },
  {
   "cell_type": "code",
   "execution_count": 2,
   "metadata": {},
   "outputs": [],
   "source": [
    "from clinical_sectionizer import TextSectionizer"
   ]
  },
  {
   "cell_type": "code",
   "execution_count": 3,
   "metadata": {},
   "outputs": [],
   "source": [
    "sectionizer = TextSectionizer()"
   ]
  },
  {
   "cell_type": "code",
   "execution_count": 4,
   "metadata": {},
   "outputs": [
    {
     "data": {
      "text/plain": [
       "{'allergy',\n",
       " 'chief_complaint',\n",
       " 'ed_course',\n",
       " 'education',\n",
       " 'family_history',\n",
       " 'hiv_screening',\n",
       " 'imaging',\n",
       " 'labs_and_studies',\n",
       " 'medication',\n",
       " 'observation_and_plan',\n",
       " 'other',\n",
       " 'past_medical_history',\n",
       " 'patient_instructions',\n",
       " 'physical_exam',\n",
       " 'present_illness',\n",
       " 'problem_list',\n",
       " 'sexual_and_social_history',\n",
       " 'signature'}"
      ]
     },
     "execution_count": 4,
     "metadata": {},
     "output_type": "execute_result"
    }
   ],
   "source": [
    "sectionizer.section_titles"
   ]
  },
  {
   "cell_type": "markdown",
   "metadata": {},
   "source": [
    "Unlike the `Sectionizer` patterns, the `pattern` value can only be a string, which will be interpreted as a case-insensitive regular expression. You can add to the `TextSectionizer` with the same `.add()` method:"
   ]
  },
  {
   "cell_type": "code",
   "execution_count": 5,
   "metadata": {},
   "outputs": [
    {
     "data": {
      "text/plain": [
       "[{'section_title': 'past_medical_history',\n",
       "  'pattern': '(past )?medical (history|hx)'},\n",
       " {'section_title': 'past_medical_history', 'pattern': 'mhx?'},\n",
       " {'section_title': 'past_medical_history', 'pattern': 'mh:'},\n",
       " {'section_title': 'past_medical_history', 'pattern': 'pmh:'},\n",
       " {'section_title': 'past_medical_history', 'pattern': 'pohx:'}]"
      ]
     },
     "execution_count": 5,
     "metadata": {},
     "output_type": "execute_result"
    }
   ],
   "source": [
    "sectionizer.patterns[:5]"
   ]
  },
  {
   "cell_type": "code",
   "execution_count": 6,
   "metadata": {},
   "outputs": [],
   "source": [
    "new_patterns = [\n",
    "    {\"section_title\": \"visit_information\", \"pattern\": \"admi(t|ssion) date:\"},\n",
    "    {\"section_title\": \"labs_and_studies\", \"pattern\": \"pertinent results:\"}\n",
    "]"
   ]
  },
  {
   "cell_type": "code",
   "execution_count": 7,
   "metadata": {},
   "outputs": [],
   "source": [
    "sectionizer.add(new_patterns)"
   ]
  },
  {
   "cell_type": "markdown",
   "metadata": {},
   "source": [
    "# Using Text Sectionizer\n",
    "We can get the split up document by calling `sectionizer(text)`. This returns a list of 3-tuples which contain:\n",
    "- `section_title`: The string of the section title\n",
    "- `section_header`: The span of text matched by the pattern\n",
    "- `section_text`: The span of text contained in the entire section"
   ]
  },
  {
   "cell_type": "code",
   "execution_count": 8,
   "metadata": {},
   "outputs": [],
   "source": [
    "sections = sectionizer(text)"
   ]
  },
  {
   "cell_type": "code",
   "execution_count": 9,
   "metadata": {},
   "outputs": [
    {
     "name": "stdout",
     "output_type": "stream",
     "text": [
      "('visit_information', 'Admission Date:', 'Admission Date:  [**2573-5-30**]              Discharge Date:   [**2573-7-1**]\\n \\nDate of Birth:  [**2498-8-19**]             Sex:   F\\n \\nService: SURGERY\\n \\n')\n"
     ]
    }
   ],
   "source": [
    "print(sections[1])"
   ]
  },
  {
   "cell_type": "code",
   "execution_count": 10,
   "metadata": {
    "scrolled": true
   },
   "outputs": [
    {
     "name": "stdout",
     "output_type": "stream",
     "text": [
      "None\n",
      "None\n",
      "\n",
      "\n",
      "\n",
      "---------------\n",
      "visit_information\n",
      "Admission Date:\n",
      "\n",
      "Admission Date:  [**2573-5-30**]              Discharge Date:   [**2573-7-1**]\n",
      " \n",
      "Date of Birth:  [**2498-8-19**]             Sex:   F\n",
      " \n",
      "Service: SURGERY\n",
      " \n",
      "\n",
      "---------------\n",
      "allergy\n",
      "Allergies:\n",
      "\n",
      "Allergies: \n",
      "Hydrochlorothiazide\n",
      " \n",
      "Attending:[**First Name3 (LF) 1893**] \n",
      "Chief Complaint:\n",
      "Abdominal pain\n",
      " \n",
      "Major Surgical or Invasive \n",
      "---------------\n"
     ]
    }
   ],
   "source": [
    "for (section_title, section_header, section_text) in sections[:3]:\n",
    "    print(section_title)\n",
    "    print(section_header)\n",
    "    print()\n",
    "    print(section_text)\n",
    "    print(\"---\"*5)"
   ]
  },
  {
   "cell_type": "markdown",
   "metadata": {},
   "source": [
    "You can unpack these tuples by using the Python `zip(*tuples)` function:"
   ]
  },
  {
   "cell_type": "code",
   "execution_count": 11,
   "metadata": {},
   "outputs": [],
   "source": [
    "section_titles, section_headers, section_texts = zip(*sections)"
   ]
  },
  {
   "cell_type": "code",
   "execution_count": 12,
   "metadata": {},
   "outputs": [
    {
     "data": {
      "text/plain": [
       "(None,\n",
       " 'visit_information',\n",
       " 'allergy',\n",
       " 'other',\n",
       " 'present_illness',\n",
       " 'past_medical_history',\n",
       " 'sexual_and_social_history',\n",
       " 'family_history',\n",
       " 'physical_exam',\n",
       " 'labs_and_studies',\n",
       " 'observation_and_plan',\n",
       " 'medication',\n",
       " 'medication',\n",
       " 'observation_and_plan',\n",
       " 'patient_instructions',\n",
       " 'patient_instructions',\n",
       " 'signature')"
      ]
     },
     "execution_count": 12,
     "metadata": {},
     "output_type": "execute_result"
    }
   ],
   "source": [
    "section_titles"
   ]
  },
  {
   "cell_type": "code",
   "execution_count": 13,
   "metadata": {},
   "outputs": [
    {
     "data": {
      "text/plain": [
       "(None,\n",
       " 'Admission Date:',\n",
       " 'Allergies:',\n",
       " 'Procedure:',\n",
       " 'History of Present Illness:',\n",
       " 'Past Medical History:',\n",
       " 'Social History:',\n",
       " 'Family History:',\n",
       " 'Physical Exam:',\n",
       " 'Pertinent Results:',\n",
       " 'IMPRESSION:',\n",
       " 'Medications on Admission:',\n",
       " 'Discharge Medications:',\n",
       " 'Discharge Diagnosis:',\n",
       " 'Discharge Instructions:',\n",
       " 'Followup Instructions:',\n",
       " 'Signed electronically by:')"
      ]
     },
     "execution_count": 13,
     "metadata": {},
     "output_type": "execute_result"
    }
   ],
   "source": [
    "section_headers"
   ]
  },
  {
   "cell_type": "code",
   "execution_count": 14,
   "metadata": {},
   "outputs": [
    {
     "data": {
      "text/plain": [
       "('\\n',\n",
       " 'Admission Date:  [**2573-5-30**]              Discharge Date:   [**2573-7-1**]\\n \\nDate of Birth:  [**2498-8-19**]             Sex:   F\\n \\nService: SURGERY\\n \\n',\n",
       " 'Allergies: \\nHydrochlorothiazide\\n \\nAttending:[**First Name3 (LF) 1893**] \\nChief Complaint:\\nAbdominal pain\\n \\nMajor Surgical or Invasive ',\n",
       " 'Procedure:\\nPICC line [**6-25**]\\nERCP w/ sphincterotomy [**5-31**]\\nTEE [**6-22**]\\nTracheostomy [**6-24**]\\n\\n \\n',\n",
       " 'History of Present Illness:\\n74y female with hypertension and a recent stroke affecting her \\nspeech, who presents with 2 days of abdominal pain.  She states \\nit is constant, and radiates to her back.  It started after \\neating a double cheese pizza and hard lemonade.  There is no \\nprior history of such an episode.  She had multiple bouts of \\nnausea and vomiting, with chills and decreased flatus.\\n \\n',\n",
       " \"Past Medical History:\\n1. Colon cancer dx'd in [**2554**], tx'd with hemicolectomy, XRT, \\nchemo. Last colonoscopy showed: Last CEA was in the 8 range \\n(down from 9) \\n2. Lymphedema from XRT, takes a diuretic \\n3. Cataracts \\n4. Hypertension \\n5. heart murmur - TTE in [**2567**] showed LA mod dilated, LV mildly \\nhypertrophied, aortic sclerosis, mild AI, mild MR. \\n6. Anxiety \\n7. CAD \\n8. Left corona radiata stroke with right facial droop and \\ndysathria [**1-/2573**]\\n9. gallstones\\n10. scoliosis\\n11. rectus sheath hematoma\\n12. history of sacral ulcer status post z-plasty\\n13. ectopic pregnancy x2\\n\\n \\n\",\n",
       " 'Social History:\\nMarried, former secretary, waitress. + tobacco x 40 years at \\n4ppd, quit 30 yrs ago. No alcohol or drug use.\\n \\n',\n",
       " 'Family History:\\nMother with stroke at age 82. no early deaths. \\n2 daughters- healthy\\n \\n',\n",
       " 'Physical Exam:\\nVS: temp 101.5, HR 114, BP 213/98, RR 20, 97%RA\\nIll appearing, no distress\\nSclera mildly icteric, mucous membranes dry\\nLungs clear to auscultation bilaterally\\nAbdomen distended, soft, diffusely tender, especially in the \\nepigastrum and right upper quandrant\\nRectal tone normal with no masses, guaiac negative\\nExtremities warm, well perfused, 3+ edema\\n \\n',\n",
       " 'Pertinent Results:\\n[**2573-5-30**] 09:10PM BLOOD WBC-19.2*# RBC-4.81 Hgb-15.5 Hct-44.0 \\nMCV-92 MCH-32.3* MCHC-35.2* RDW-13.3 Plt Ct-230\\n[**2573-5-30**] 09:10PM BLOOD Neuts-87* Bands-10* Lymphs-3* Monos-0 \\nEos-0 Baso-0 Atyps-0 Metas-0 Myelos-0\\n[**2573-5-30**] 09:10PM BLOOD PT-13.1 PTT-23.2 INR(PT)-1.1\\n[**2573-5-30**] 09:10PM BLOOD Glucose-189* UreaN-29* Creat-1.2* Na-143 \\nK-3.5 Cl-104 HCO3-24 AnGap-19\\n[**2573-5-30**] 09:10PM BLOOD ALT-345* AST-388* AlkPhos-246* \\nAmylase-1235* TotBili-8.4*\\n[**2573-5-30**] 09:10PM BLOOD Lipase-2443*\\n[**2573-5-30**] 09:10PM BLOOD Albumin-4.2 Calcium-9.3 Mg-1.2*\\n\\n[**2573-7-1**] 03:01AM BLOOD WBC-7.5 RBC-2.95* Hgb-8.8* Hct-27.7* \\nMCV-94 MCH-29.9 MCHC-31.8 RDW-17.1* Plt Ct-213\\n[**2573-7-1**] 03:01AM BLOOD Plt Ct-213\\n[**2573-7-1**] 03:01AM BLOOD Glucose-100 UreaN-25* Creat-1.2* Na-141 \\nK-3.5 Cl-102 HCO3-31* AnGap-12\\n[**2573-6-29**] 12:45AM BLOOD ALT-22 AST-14 AlkPhos-159* Amylase-37 \\nTotBili-0.7\\n[**2573-6-29**] 12:45AM BLOOD Lipase-37\\n[**2573-7-1**] 03:01AM BLOOD Calcium-8.4 Phos-3.0 Mg-1.8\\n[**2573-7-1**] 05:25AM BLOOD Vanco-17.8*\\n\\nUltrasound [**5-30**]: ',\n",
       " \"IMPRESSION: 1. Dilated common bile duct with \\nmild intrahepatic biliary ductal dilatation and dilataion of the \\npancreatic duct. 2. Edematous gallbladder wall.\\n\\nERCP [**5-31**]: There was bulging of the major pailla suggestive of an \\nimpacted stone. A stone causing partial obstruction was seen in \\nthe distal CBD. \\nThere was dilation of the CBD above the stone however accurate \\nradiographic evaluation could not be obtained due to the use of \\nthe C-arm in the ICU. A sphincterotomy was performed in the 12 \\no'clock position using a sphincterotome over an existing \\nguidewire. A 15mm balloon was used to sweep the duct multiple \\ntimes wich successfully extracted stones, sludge and a large \\namount of purulent material. \\n\\n \\nBrief Hospital Course:\\nMs. [**Known patient lastname 2004**] was admitted on [**2573-5-30**]. Ultrasound at the time of \\nadmission demonstrated pancreatic duct dilitation and an \\nedematous gallbladder. She was admitted to the ICU. [**5-31**] she \\nunderwent ERCP w/ sphincterotomy, an impacted stone was removed. \\nShe has had a prolonged ICU course. Review of hospital course by \\nsystem includes.\\nNeuro: Neurology was consutled on [**6-11**] for mental status \\nchanges. The team believed the patient's MS [**First Name (Titles) 1935**] [**Last Name (Titles) 2005**] from \\nher overall metabolic and infectious  conditions. A head CT was \\nperformed which was negative. A lumbar puncture was also done \\nwhich too was negative. \\n\\nCardiovascular: The cardiology team was consulted on [**6-1**] and a \\nTTE was obtained showing decreased biventricular systolic \\ndysfunction representing a diffuse process. On [**6-14**] a repeat TTE \\nfollowed by a TEE was done to rule out endocarditis; no \\nvegatation or abscess was seen. A TEE was again performed on \\n[**6-22**] there was no significant change from the prior study. The \\npatient was treated with amiodarone to control her atrial \\nfibrillation. \\n\\nPulmonary: Patient was intubated on admission and transferred to \\nthe ICU. Patient was initially extubated on hospital day six. \\nThe patient was re-intubated on [**6-12**] for hypercarbic respiratory \\nfailure and airway protection. The patient was extubated again \\non [**6-18**] and re-intubated on [**6-19**] for respiratory decompensation. \\nThe patient ultimately underwent a tracheostomy on [**6-24**]. The \\npatient tolerated a trach mask on [**6-25**]. Bronchoscopy on [**6-26**] \\nwith suctioning of bronchial plugs. CT chest on [**6-27**] showed \\ncollapse of the left lung with left sided pleural effusion. Left \\nsided thoracentesis was done on [**6-27**] to remove fluid with hope \\nof re-expanding left lung.\\n\\nGI: Patient was admitted with a diagnosis of gallstone \\npancreatitis, she underwent ERCP w/ sphincterotomy on [**5-31**]. Her \\ntube feeds were started due anticipation of a  prolonged period \\nwithout orally based enteral nutrition. [**6-9**] patient had a CT \\nscan of the abdomen,it showed no gallstones or abscess. A \\npost-pyloric dobhoff was placed on [**6-14**]. The patient's caloric \\nintake was maintained by a combination of TPN and tube feeds. \\nEach nutritional replacment was employed at different times \\nindependently of the other based on the patient's tolerance for \\ntube feeds or TPN.\\n\\nFEN: Patient was dehydrated, with hypovolemia and treated with \\naggressive fluid hydration upon admission to the hospital. Tube \\nfeeds were held on [**6-30**] due to high residuals. Currently the \\npatient is not on TPN, while nutrition more recently has been \\nmaintained with tube feeds.\\n\\nRenal: Foley in place to monitor urine output.\\n\\nHeme: Blood loss and anemia in the unit requiring multiple \\ntransfusions. Currently, hematocrit is stable.\\n\\nID: Consult was obtained on [**6-12**] the ID team continued to follow \\nthe patient throughout her entire hospital stay. The patient had \\nmultiple episodes of fever and cultures which were positive for \\nthe following organisms. [**6-26**] Blood: MRSA // [**6-23**] Sputum: MRSA, \\nKlebsiella // [**6-22**] Sputum: MRSA, Klebsiella // 23: Bld/Tip- pend \\n// [**6-19**] Blood: [**Female First Name (un) **] // [**6-19**]: urine - neg // [**6-18**] Blood: \\n[**Female First Name (un) **] // [**6-16**] Blood: [**Female First Name (un) **] // [**6-14**] Blood: [**Female First Name (un) **] // [**6-13**] \\nBlood: [**Female First Name (un) **] // [**6-12**] Bladder swab: Enterococcus, [**Female First Name (un) **], \\nStaph coag Pos, GNR, Staph Coag Neg // [**6-12**] Blood: [**Female First Name (un) **] // \\n[**6-11**] Cath tip: [**Female First Name (un) **] // [**6-11**] Blood: [**Female First Name (un) **] // [**6-11**] Urine: \\nEnterococcus, Yeast // [**6-9**] Cath tip: [**Female First Name (un) **] // Urine [**5-30**] \\nKLEBSIELLA PNEUMONIAE, Viridans // Blood 5/01 KLEBSIELLA \\nPNEUMONIAE, Corynybacterium \\nAdditionally the patient had multiple line changes secondary to \\nspiking temperatures and positive cultures.The patient was \\ntreated with multiple antibiotics during her hospital course and \\nat the time of discharge he was being treated with Ambisome, \\nCaspofungin and Vancomycin. Please continue Ambisome and \\ncaspofungin until [**7-6**], Vancomycin should be continued until \\n[**7-12**].\\n\\nEndo: The patient has been maintained on an insulin sliding \\nscale through the duration of her hospital course.\\n\\nConsults: The team orderd a pysch consult on the patient on [**6-7**] \\nbecuse the patient appeared to be confused. An opthomology \\nconsult was ordered to rule out fungally related eye infection. \\nThe patient was seen and evaluated by optho; they deemed that \\nthere was no eye infection.\\n\\nHospital Procedures while in the SICU\\nPICC line [**6-25**]\\nMulitple bronchoscopies\\nLeft thoracocentesis [**6-27**]\\nTransesophageal echo [**6-22**]: normal\\nERCP with sphincterotomy [**5-31**]\\nTracheostomy [**6-24**]\\n\\n \\n\",\n",
       " 'Medications on Admission:\\nASA 325mg daily\\nbuspirone 5mg TID\\ncolace 100mg BID\\nlasix 20mg daily\\nlipitor 10mg daily\\nlisinopril 20mg daily\\nneurontin 100mg BID\\nomeprazole 20mg daily\\nroxicet prn\\nzinc 220mg daily\\nvit C\\n \\n',\n",
       " 'Discharge Medications:\\n1. Miconazole Nitrate 2 % Powder Sig: One (1) Appl Topical  BID \\n(2 times a day) as needed.  \\n2. Heparin Sodium (Porcine) 5,000 unit/mL Solution Sig: One (1)  \\nInjection TID (3 times a day).  \\n3. Acetaminophen 160 mg/5 mL Elixir Sig: One (1)  PO Q4-6H \\n(every 4 to 6 hours) as needed.  \\n4. Terbinafine HCl 1 % Cream Sig: One (1) Appl Topical  BID (2 \\ntimes a day).  \\n5. Insulin Regular Human 100 unit/mL Solution Sig: One (1)  \\nInjection ASDIR (AS DIRECTED).  \\n6. Albuterol-Ipratropium 103-18 mcg/Actuation Aerosol Sig: [**1-31**] \\nPuffs Inhalation Q6H (every 6 hours) as needed.  \\n7. Lansoprazole 30 mg Capsule, Delayed Release(E.C.) Sig: One \\n(1) Capsule, Delayed Release(E.C.) PO DAILY (Daily).  \\n8. Metoprolol Tartrate 50 mg Tablet Sig: 1.5 Tablets PO TID (3 \\ntimes a day).  \\n9. Sertraline HCl 50 mg Tablet Sig: One (1) Tablet PO DAILY \\n(Daily).  \\n10. Amiodarone HCl 200 mg Tablet Sig: Two (2) Tablet PO BID (2 \\ntimes a day).  \\n11. Hydralazine HCl 10 mg IV Q6 PRN \\n12. Fentanyl Citrate 25-50 mcg IV Q2H:PRN \\n13. Caspofungin 50 mg IV Q24H \\n14. Ambisome 300 mg IV Q24H \\n15. Furosemide 40 mg IV BID \\n16. Vancomycin HCl 1000 mg IV Q24H \\nvanco level 17 \\n17. Dolasetron Mesylate 12.5 mg IV Q4H:PRN \\n\\n \\nDischarge Disposition:\\nExtended Care\\n \\nFacility:\\n[**Hospital3 1446**] & Rehab Center - [**Hospital1 370**]\\n \\n',\n",
       " 'Discharge Diagnosis:\\nAtrial Fibrillation\\nPancreatitis\\nHTN\\nhyperlipidemia\\nh/o aspiration respiratory distress\\nbacteremia ([**Female First Name (un) 929**])\\nUTI (klebsiella)\\n\\n \\nDischarge Condition:\\nGood\\n \\n',\n",
       " 'Discharge Instructions:\\nPatient may shower. Please call your surgeon or return to the \\nemergency room if [**Doctor First Name **] experience fever >101.5, nausea, vomiting, \\nabdominal pain, shortness of breath, abdominal pain or any \\nsignificant  change in your medical condition. Ambisome and \\ncaspofungin should be continued til [**7-6**] while vanco should be \\ncontinued til [**7-12**].\\n \\n',\n",
       " 'Followup Instructions:\\nPlease follow up with Dr. [**Last Name (STitle) **] in 2 weeks. Upon discharge \\nplease call Dr.[**Initials (NamePattern4) 1895**] [**Last Name (NamePattern4) 2006**] in order to schedule your \\nfollow up appointment.([**Telephone/Fax (1) 2007**]\\n \\nProvider: [**Name10 (NameIs) 296**] [**Last Name (NamePattern4) 340**], M.D. [**MD Number 60**]: [**Hospital6 64**] \\n[**Hospital3 2008**] CENTER Phone:[**Telephone/Fax (1) 341**] Date/Time:[**2573-11-24**] 9:15\\n \\nProvider: [**First Name11 (Name Pattern1) **] [**Last Name (NamePattern1) 2009**], MD [**MD Number 60**]: [**Hospital6 64**] \\nHEMATOLOGY/ONCOLOGY Phone:[**Telephone/Fax (1) 936**] Date/Time:[**2574-5-11**] 10:00\\n \\n\\n \\n\\n \\n                             [**First Name11 (Name Pattern1) **] [**Last Name (NamePattern4) **] MD [**MD Number 1896**]\\n \\nCompleted by: [**First Name11 (Name Pattern1) 2010**] [**Last Name (NamePattern1) 2011**] MD [**MD Number 2012**] [**2573-7-1**] @ 1404\\n',\n",
       " 'Signed electronically by: DR. [**First Name8 (NamePattern2) **] [**Last Name (NamePattern1) **]\\n on: FRI [**2573-7-2**] 8:03 AM\\n(End of Report)\\n')"
      ]
     },
     "execution_count": 14,
     "metadata": {},
     "output_type": "execute_result"
    }
   ],
   "source": [
    "section_texts"
   ]
  },
  {
   "cell_type": "code",
   "execution_count": null,
   "metadata": {},
   "outputs": [],
   "source": []
  },
  {
   "cell_type": "markdown",
   "metadata": {},
   "source": [
    "## Limiting sections\n",
    "Once you identify the sections in a document, you can then exclude any other sections which aren't relevant. You can then process each document separately or combine into a smaller, more selective document."
   ]
  },
  {
   "cell_type": "code",
   "execution_count": 15,
   "metadata": {},
   "outputs": [],
   "source": [
    "relevant_section_titles = [\"present_illness\", \"medication\"]\n",
    "relevant_sections = [section for (section_title, section_header, section) in sections \n",
    "                   if section_title in relevant_section_titles]"
   ]
  },
  {
   "cell_type": "code",
   "execution_count": 16,
   "metadata": {},
   "outputs": [
    {
     "data": {
      "text/plain": [
       "['present_illness', 'medication']"
      ]
     },
     "execution_count": 16,
     "metadata": {},
     "output_type": "execute_result"
    }
   ],
   "source": [
    "relevant_section_titles"
   ]
  },
  {
   "cell_type": "code",
   "execution_count": 17,
   "metadata": {},
   "outputs": [],
   "source": [
    "relevant_text = \"\\n\\n\".join(relevant_sections)"
   ]
  },
  {
   "cell_type": "code",
   "execution_count": 18,
   "metadata": {},
   "outputs": [],
   "source": [
    "import spacy\n",
    "from cycontext.viz import visualize_ent "
   ]
  },
  {
   "cell_type": "code",
   "execution_count": 19,
   "metadata": {},
   "outputs": [
    {
     "name": "stderr",
     "output_type": "stream",
     "text": [
      "/Users/alecchapman/opt/anaconda3/envs/medspacy-37/lib/python3.7/site-packages/spacy/util.py:275: UserWarning: [W031] Model 'en_info_3700_i2b2_2012' (0.1.0) requires spaCy v2.2 and is incompatible with the current spaCy version (2.3.2). This may lead to unexpected results or runtime errors. To resolve this, download a newer compatible model or retrain your custom model with the current spaCy version. For more details and available updates, run: python -m spacy validate\n",
      "  warnings.warn(warn_msg)\n"
     ]
    }
   ],
   "source": [
    "nlp = spacy.load(\"en_info_3700_i2b2_2012\")"
   ]
  },
  {
   "cell_type": "code",
   "execution_count": 20,
   "metadata": {},
   "outputs": [
    {
     "data": {
      "text/plain": [
       "<spacy.lang.en.English at 0x11d77b2d0>"
      ]
     },
     "execution_count": 20,
     "metadata": {},
     "output_type": "execute_result"
    }
   ],
   "source": [
    "nlp"
   ]
  },
  {
   "cell_type": "code",
   "execution_count": 21,
   "metadata": {},
   "outputs": [],
   "source": [
    "doc = nlp(relevant_text)"
   ]
  },
  {
   "cell_type": "code",
   "execution_count": 22,
   "metadata": {},
   "outputs": [
    {
     "data": {
      "text/html": [
       "<span class=\"tex2jax_ignore\"><div class=\"entities\" style=\"line-height: 2.5; direction: ltr\">History of Present Illness:</br>74y female with \n",
       "<mark class=\"entity\" style=\"background: #1f77b4; padding: 0.45em 0.6em; margin: 0 0.25em; line-height: 1; border-radius: 0.35em;\">\n",
       "    hypertension\n",
       "    <span style=\"font-size: 0.8em; font-weight: bold; line-height: 1; border-radius: 0.35em; text-transform: uppercase; vertical-align: middle; margin-left: 0.5rem\">PROBLEM</span>\n",
       "</mark>\n",
       " and \n",
       "<mark class=\"entity\" style=\"background: #1f77b4; padding: 0.45em 0.6em; margin: 0 0.25em; line-height: 1; border-radius: 0.35em;\">\n",
       "    a recent stroke\n",
       "    <span style=\"font-size: 0.8em; font-weight: bold; line-height: 1; border-radius: 0.35em; text-transform: uppercase; vertical-align: middle; margin-left: 0.5rem\">PROBLEM</span>\n",
       "</mark>\n",
       " affecting her </br>speech, who presents with 2 days of \n",
       "<mark class=\"entity\" style=\"background: #1f77b4; padding: 0.45em 0.6em; margin: 0 0.25em; line-height: 1; border-radius: 0.35em;\">\n",
       "    abdominal pain\n",
       "    <span style=\"font-size: 0.8em; font-weight: bold; line-height: 1; border-radius: 0.35em; text-transform: uppercase; vertical-align: middle; margin-left: 0.5rem\">PROBLEM</span>\n",
       "</mark>\n",
       ".  She states </br>it is constant, and \n",
       "<mark class=\"entity\" style=\"background: #1f77b4; padding: 0.45em 0.6em; margin: 0 0.25em; line-height: 1; border-radius: 0.35em;\">\n",
       "    radiates to her back\n",
       "    <span style=\"font-size: 0.8em; font-weight: bold; line-height: 1; border-radius: 0.35em; text-transform: uppercase; vertical-align: middle; margin-left: 0.5rem\">PROBLEM</span>\n",
       "</mark>\n",
       ".  It started after </br>eating a double cheese pizza and \n",
       "<mark class=\"entity\" style=\"background: #1f77b4; padding: 0.45em 0.6em; margin: 0 0.25em; line-height: 1; border-radius: 0.35em;\">\n",
       "    hard lemonade\n",
       "    <span style=\"font-size: 0.8em; font-weight: bold; line-height: 1; border-radius: 0.35em; text-transform: uppercase; vertical-align: middle; margin-left: 0.5rem\">PROBLEM</span>\n",
       "</mark>\n",
       ".  There is no </br>prior history of such \n",
       "<mark class=\"entity\" style=\"background: #1f77b4; padding: 0.45em 0.6em; margin: 0 0.25em; line-height: 1; border-radius: 0.35em;\">\n",
       "    an episode\n",
       "    <span style=\"font-size: 0.8em; font-weight: bold; line-height: 1; border-radius: 0.35em; text-transform: uppercase; vertical-align: middle; margin-left: 0.5rem\">PROBLEM</span>\n",
       "</mark>\n",
       ".  She had \n",
       "<mark class=\"entity\" style=\"background: #1f77b4; padding: 0.45em 0.6em; margin: 0 0.25em; line-height: 1; border-radius: 0.35em;\">\n",
       "    multiple bouts\n",
       "    <span style=\"font-size: 0.8em; font-weight: bold; line-height: 1; border-radius: 0.35em; text-transform: uppercase; vertical-align: middle; margin-left: 0.5rem\">PROBLEM</span>\n",
       "</mark>\n",
       " of </br>\n",
       "<mark class=\"entity\" style=\"background: #1f77b4; padding: 0.45em 0.6em; margin: 0 0.25em; line-height: 1; border-radius: 0.35em;\">\n",
       "    nausea\n",
       "    <span style=\"font-size: 0.8em; font-weight: bold; line-height: 1; border-radius: 0.35em; text-transform: uppercase; vertical-align: middle; margin-left: 0.5rem\">PROBLEM</span>\n",
       "</mark>\n",
       " and \n",
       "<mark class=\"entity\" style=\"background: #1f77b4; padding: 0.45em 0.6em; margin: 0 0.25em; line-height: 1; border-radius: 0.35em;\">\n",
       "    vomiting\n",
       "    <span style=\"font-size: 0.8em; font-weight: bold; line-height: 1; border-radius: 0.35em; text-transform: uppercase; vertical-align: middle; margin-left: 0.5rem\">PROBLEM</span>\n",
       "</mark>\n",
       ", with \n",
       "<mark class=\"entity\" style=\"background: #1f77b4; padding: 0.45em 0.6em; margin: 0 0.25em; line-height: 1; border-radius: 0.35em;\">\n",
       "    chills\n",
       "    <span style=\"font-size: 0.8em; font-weight: bold; line-height: 1; border-radius: 0.35em; text-transform: uppercase; vertical-align: middle; margin-left: 0.5rem\">PROBLEM</span>\n",
       "</mark>\n",
       " and \n",
       "<mark class=\"entity\" style=\"background: #1f77b4; padding: 0.45em 0.6em; margin: 0 0.25em; line-height: 1; border-radius: 0.35em;\">\n",
       "    decreased flatus\n",
       "    <span style=\"font-size: 0.8em; font-weight: bold; line-height: 1; border-radius: 0.35em; text-transform: uppercase; vertical-align: middle; margin-left: 0.5rem\">PROBLEM</span>\n",
       "</mark>\n",
       ".</br> </br></br></br>\n",
       "<mark class=\"entity\" style=\"background: #2ca02c; padding: 0.45em 0.6em; margin: 0 0.25em; line-height: 1; border-radius: 0.35em;\">\n",
       "    Medications\n",
       "    <span style=\"font-size: 0.8em; font-weight: bold; line-height: 1; border-radius: 0.35em; text-transform: uppercase; vertical-align: middle; margin-left: 0.5rem\">TREATMENT</span>\n",
       "</mark>\n",
       " on Admission:</br>\n",
       "<mark class=\"entity\" style=\"background: #2ca02c; padding: 0.45em 0.6em; margin: 0 0.25em; line-height: 1; border-radius: 0.35em;\">\n",
       "    ASA\n",
       "    <span style=\"font-size: 0.8em; font-weight: bold; line-height: 1; border-radius: 0.35em; text-transform: uppercase; vertical-align: middle; margin-left: 0.5rem\">TREATMENT</span>\n",
       "</mark>\n",
       " 325mg daily</br>\n",
       "<mark class=\"entity\" style=\"background: #2ca02c; padding: 0.45em 0.6em; margin: 0 0.25em; line-height: 1; border-radius: 0.35em;\">\n",
       "    buspirone\n",
       "    <span style=\"font-size: 0.8em; font-weight: bold; line-height: 1; border-radius: 0.35em; text-transform: uppercase; vertical-align: middle; margin-left: 0.5rem\">TREATMENT</span>\n",
       "</mark>\n",
       " 5mg TID</br>\n",
       "<mark class=\"entity\" style=\"background: #2ca02c; padding: 0.45em 0.6em; margin: 0 0.25em; line-height: 1; border-radius: 0.35em;\">\n",
       "    colace\n",
       "    <span style=\"font-size: 0.8em; font-weight: bold; line-height: 1; border-radius: 0.35em; text-transform: uppercase; vertical-align: middle; margin-left: 0.5rem\">TREATMENT</span>\n",
       "</mark>\n",
       " 100mg BID</br>\n",
       "<mark class=\"entity\" style=\"background: #2ca02c; padding: 0.45em 0.6em; margin: 0 0.25em; line-height: 1; border-radius: 0.35em;\">\n",
       "    lasix\n",
       "    <span style=\"font-size: 0.8em; font-weight: bold; line-height: 1; border-radius: 0.35em; text-transform: uppercase; vertical-align: middle; margin-left: 0.5rem\">TREATMENT</span>\n",
       "</mark>\n",
       " 20mg daily</br>\n",
       "<mark class=\"entity\" style=\"background: #2ca02c; padding: 0.45em 0.6em; margin: 0 0.25em; line-height: 1; border-radius: 0.35em;\">\n",
       "    lipitor\n",
       "    <span style=\"font-size: 0.8em; font-weight: bold; line-height: 1; border-radius: 0.35em; text-transform: uppercase; vertical-align: middle; margin-left: 0.5rem\">TREATMENT</span>\n",
       "</mark>\n",
       " 10mg daily</br>\n",
       "<mark class=\"entity\" style=\"background: #2ca02c; padding: 0.45em 0.6em; margin: 0 0.25em; line-height: 1; border-radius: 0.35em;\">\n",
       "    lisinopril\n",
       "    <span style=\"font-size: 0.8em; font-weight: bold; line-height: 1; border-radius: 0.35em; text-transform: uppercase; vertical-align: middle; margin-left: 0.5rem\">TREATMENT</span>\n",
       "</mark>\n",
       " 20mg daily</br>\n",
       "<mark class=\"entity\" style=\"background: #2ca02c; padding: 0.45em 0.6em; margin: 0 0.25em; line-height: 1; border-radius: 0.35em;\">\n",
       "    neurontin\n",
       "    <span style=\"font-size: 0.8em; font-weight: bold; line-height: 1; border-radius: 0.35em; text-transform: uppercase; vertical-align: middle; margin-left: 0.5rem\">TREATMENT</span>\n",
       "</mark>\n",
       " 100mg BID</br>\n",
       "<mark class=\"entity\" style=\"background: #2ca02c; padding: 0.45em 0.6em; margin: 0 0.25em; line-height: 1; border-radius: 0.35em;\">\n",
       "    omeprazole\n",
       "    <span style=\"font-size: 0.8em; font-weight: bold; line-height: 1; border-radius: 0.35em; text-transform: uppercase; vertical-align: middle; margin-left: 0.5rem\">TREATMENT</span>\n",
       "</mark>\n",
       " 20mg daily</br>\n",
       "<mark class=\"entity\" style=\"background: #2ca02c; padding: 0.45em 0.6em; margin: 0 0.25em; line-height: 1; border-radius: 0.35em;\">\n",
       "    roxicet\n",
       "    <span style=\"font-size: 0.8em; font-weight: bold; line-height: 1; border-radius: 0.35em; text-transform: uppercase; vertical-align: middle; margin-left: 0.5rem\">TREATMENT</span>\n",
       "</mark>\n",
       " prn</br>\n",
       "<mark class=\"entity\" style=\"background: #ff7f0e; padding: 0.45em 0.6em; margin: 0 0.25em; line-height: 1; border-radius: 0.35em;\">\n",
       "    zinc\n",
       "    <span style=\"font-size: 0.8em; font-weight: bold; line-height: 1; border-radius: 0.35em; text-transform: uppercase; vertical-align: middle; margin-left: 0.5rem\">TEST</span>\n",
       "</mark>\n",
       " 220mg daily</br>vit C</br> </br></br></br>Discharge Medications:</br>1. \n",
       "<mark class=\"entity\" style=\"background: #2ca02c; padding: 0.45em 0.6em; margin: 0 0.25em; line-height: 1; border-radius: 0.35em;\">\n",
       "    Miconazole\n",
       "    <span style=\"font-size: 0.8em; font-weight: bold; line-height: 1; border-radius: 0.35em; text-transform: uppercase; vertical-align: middle; margin-left: 0.5rem\">TREATMENT</span>\n",
       "</mark>\n",
       " Nitrate 2 % Powder Sig: One (1) Appl Topical  BID </br>(2 times a day) as needed.  </br>2. \n",
       "<mark class=\"entity\" style=\"background: #2ca02c; padding: 0.45em 0.6em; margin: 0 0.25em; line-height: 1; border-radius: 0.35em;\">\n",
       "    Heparin Sodium\n",
       "    <span style=\"font-size: 0.8em; font-weight: bold; line-height: 1; border-radius: 0.35em; text-transform: uppercase; vertical-align: middle; margin-left: 0.5rem\">TREATMENT</span>\n",
       "</mark>\n",
       " (\n",
       "<mark class=\"entity\" style=\"background: #2ca02c; padding: 0.45em 0.6em; margin: 0 0.25em; line-height: 1; border-radius: 0.35em;\">\n",
       "    Porcine\n",
       "    <span style=\"font-size: 0.8em; font-weight: bold; line-height: 1; border-radius: 0.35em; text-transform: uppercase; vertical-align: middle; margin-left: 0.5rem\">TREATMENT</span>\n",
       "</mark>\n",
       ") 5,000 unit/mL Solution Sig: One (1)  </br>Injection TID (3 times a day).  </br>3. Acetaminophen 160 mg/5 mL Elixir Sig: One (1)  PO Q4-6H </br>(every 4 to 6 hours) as needed.  </br>4. \n",
       "<mark class=\"entity\" style=\"background: #2ca02c; padding: 0.45em 0.6em; margin: 0 0.25em; line-height: 1; border-radius: 0.35em;\">\n",
       "    Terbinafine HCl\n",
       "    <span style=\"font-size: 0.8em; font-weight: bold; line-height: 1; border-radius: 0.35em; text-transform: uppercase; vertical-align: middle; margin-left: 0.5rem\">TREATMENT</span>\n",
       "</mark>\n",
       " 1 % Cream Sig: One (1) Appl Topical  BID (2 </br>times a day).  </br>5. Insulin Regular Human 100 unit/mL Solution Sig: One (1)  </br>Injection ASDIR (AS DIRECTED).  </br>6. \n",
       "<mark class=\"entity\" style=\"background: #2ca02c; padding: 0.45em 0.6em; margin: 0 0.25em; line-height: 1; border-radius: 0.35em;\">\n",
       "    Albuterol-Ipratropium\n",
       "    <span style=\"font-size: 0.8em; font-weight: bold; line-height: 1; border-radius: 0.35em; text-transform: uppercase; vertical-align: middle; margin-left: 0.5rem\">TREATMENT</span>\n",
       "</mark>\n",
       " 103-18 mcg/Actuation Aerosol Sig: [**1-31**] </br>Puffs Inhalation Q6H (every 6 hours) as needed.  </br>7. \n",
       "<mark class=\"entity\" style=\"background: #2ca02c; padding: 0.45em 0.6em; margin: 0 0.25em; line-height: 1; border-radius: 0.35em;\">\n",
       "    Lansoprazole\n",
       "    <span style=\"font-size: 0.8em; font-weight: bold; line-height: 1; border-radius: 0.35em; text-transform: uppercase; vertical-align: middle; margin-left: 0.5rem\">TREATMENT</span>\n",
       "</mark>\n",
       " 30 mg Capsule, Delayed Release(E.C.) Sig: One </br>(1) Capsule, Delayed Release(E.C.) PO DAILY (Daily).  </br>8. Metoprolol Tartrate 50 mg Tablet Sig: 1.5 Tablets PO TID (3 </br>times a day).  </br>9. \n",
       "<mark class=\"entity\" style=\"background: #2ca02c; padding: 0.45em 0.6em; margin: 0 0.25em; line-height: 1; border-radius: 0.35em;\">\n",
       "    Sertraline HCl\n",
       "    <span style=\"font-size: 0.8em; font-weight: bold; line-height: 1; border-radius: 0.35em; text-transform: uppercase; vertical-align: middle; margin-left: 0.5rem\">TREATMENT</span>\n",
       "</mark>\n",
       " 50 mg Tablet Sig: One (1) Tablet PO DAILY </br>(Daily).  </br>10. \n",
       "<mark class=\"entity\" style=\"background: #2ca02c; padding: 0.45em 0.6em; margin: 0 0.25em; line-height: 1; border-radius: 0.35em;\">\n",
       "    Amiodarone HCl\n",
       "    <span style=\"font-size: 0.8em; font-weight: bold; line-height: 1; border-radius: 0.35em; text-transform: uppercase; vertical-align: middle; margin-left: 0.5rem\">TREATMENT</span>\n",
       "</mark>\n",
       " 200 mg Tablet Sig: Two (2) Tablet PO BID (2 </br>times a day).  </br>11. \n",
       "<mark class=\"entity\" style=\"background: #2ca02c; padding: 0.45em 0.6em; margin: 0 0.25em; line-height: 1; border-radius: 0.35em;\">\n",
       "    Hydralazine HCl\n",
       "    <span style=\"font-size: 0.8em; font-weight: bold; line-height: 1; border-radius: 0.35em; text-transform: uppercase; vertical-align: middle; margin-left: 0.5rem\">TREATMENT</span>\n",
       "</mark>\n",
       " 10 mg IV Q6 PRN </br>12. \n",
       "<mark class=\"entity\" style=\"background: #2ca02c; padding: 0.45em 0.6em; margin: 0 0.25em; line-height: 1; border-radius: 0.35em;\">\n",
       "    Fentanyl Citrate\n",
       "    <span style=\"font-size: 0.8em; font-weight: bold; line-height: 1; border-radius: 0.35em; text-transform: uppercase; vertical-align: middle; margin-left: 0.5rem\">TREATMENT</span>\n",
       "</mark>\n",
       " 25-50 mcg \n",
       "<mark class=\"entity\" style=\"background: #1f77b4; padding: 0.45em 0.6em; margin: 0 0.25em; line-height: 1; border-radius: 0.35em;\">\n",
       "    IV Q2H\n",
       "    <span style=\"font-size: 0.8em; font-weight: bold; line-height: 1; border-radius: 0.35em; text-transform: uppercase; vertical-align: middle; margin-left: 0.5rem\">PROBLEM</span>\n",
       "</mark>\n",
       ":PRN </br>13. Caspofungin 50 mg IV Q24H </br>14. \n",
       "<mark class=\"entity\" style=\"background: #2ca02c; padding: 0.45em 0.6em; margin: 0 0.25em; line-height: 1; border-radius: 0.35em;\">\n",
       "    Ambisome\n",
       "    <span style=\"font-size: 0.8em; font-weight: bold; line-height: 1; border-radius: 0.35em; text-transform: uppercase; vertical-align: middle; margin-left: 0.5rem\">TREATMENT</span>\n",
       "</mark>\n",
       " 300 mg IV Q24H </br>15. \n",
       "<mark class=\"entity\" style=\"background: #2ca02c; padding: 0.45em 0.6em; margin: 0 0.25em; line-height: 1; border-radius: 0.35em;\">\n",
       "    Furosemide\n",
       "    <span style=\"font-size: 0.8em; font-weight: bold; line-height: 1; border-radius: 0.35em; text-transform: uppercase; vertical-align: middle; margin-left: 0.5rem\">TREATMENT</span>\n",
       "</mark>\n",
       " 40 mg IV BID </br>16. \n",
       "<mark class=\"entity\" style=\"background: #2ca02c; padding: 0.45em 0.6em; margin: 0 0.25em; line-height: 1; border-radius: 0.35em;\">\n",
       "    Vancomycin HCl\n",
       "    <span style=\"font-size: 0.8em; font-weight: bold; line-height: 1; border-radius: 0.35em; text-transform: uppercase; vertical-align: middle; margin-left: 0.5rem\">TREATMENT</span>\n",
       "</mark>\n",
       " 1000 mg IV Q24H </br>vanco level 17 </br>17. \n",
       "<mark class=\"entity\" style=\"background: #2ca02c; padding: 0.45em 0.6em; margin: 0 0.25em; line-height: 1; border-radius: 0.35em;\">\n",
       "    Dolasetron Mesylate\n",
       "    <span style=\"font-size: 0.8em; font-weight: bold; line-height: 1; border-radius: 0.35em; text-transform: uppercase; vertical-align: middle; margin-left: 0.5rem\">TREATMENT</span>\n",
       "</mark>\n",
       " 12.5 mg IV Q4H:PRN \n",
       "\n",
       " \n",
       "Discharge Disposition:\n",
       "Extended Care\n",
       " \n",
       "Facility:\n",
       "[**Hospital3 1446**] &amp; Rehab Center - [**Hospital1 370**]\n",
       " \n",
       "</div></span>"
      ],
      "text/plain": [
       "<IPython.core.display.HTML object>"
      ]
     },
     "metadata": {},
     "output_type": "display_data"
    }
   ],
   "source": [
    "visualize_ent(doc)"
   ]
  },
  {
   "cell_type": "code",
   "execution_count": null,
   "metadata": {},
   "outputs": [],
   "source": []
  }
 ],
 "metadata": {
  "kernelspec": {
   "display_name": "Python 3",
   "language": "python",
   "name": "python3"
  },
  "language_info": {
   "codemirror_mode": {
    "name": "ipython",
    "version": 3
   },
   "file_extension": ".py",
   "mimetype": "text/x-python",
   "name": "python",
   "nbconvert_exporter": "python",
   "pygments_lexer": "ipython3",
   "version": "3.7.9"
  }
 },
 "nbformat": 4,
 "nbformat_minor": 4
}
