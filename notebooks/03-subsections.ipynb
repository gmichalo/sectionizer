{
 "cells": [
  {
   "cell_type": "markdown",
   "metadata": {},
   "source": [
    "# Subsections\n",
    "\n",
    "The medspacy sectionizer supports adding subsections to your document."
   ]
  },
  {
   "cell_type": "code",
   "execution_count": 1,
   "metadata": {},
   "outputs": [],
   "source": [
    "import spacy\n",
    "\n",
    "import sys\n",
    "sys.path.insert(0, \"..\")\n",
    "\n",
    "from clinical_sectionizer import Sectionizer"
   ]
  },
  {
   "cell_type": "markdown",
   "metadata": {},
   "source": [
    "Here are four example documents showing slight permutations of a section-subsection structure found in text."
   ]
  },
  {
   "cell_type": "code",
   "execution_count": 2,
   "metadata": {},
   "outputs": [],
   "source": [
    "text1 = '''Past Medical History: \n",
    "pt has history of medical events\n",
    "Comments: some comment here\n",
    "\n",
    "Allergies:\n",
    "peanuts\n",
    "'''\n",
    "\n",
    "text2 = '''Past Medical History: \n",
    "pt has history of medical events\n",
    "Comments: some comment here\n",
    "\n",
    "Allergies:\n",
    "peanuts\n",
    "Comments: pt cannot eat peanuts\n",
    "'''\n",
    "\n",
    "text3 = '''Past Medical History: \n",
    "pt has history of medical events\n",
    "\n",
    "Allergies:\n",
    "peanuts\n",
    "Comments: pt cannot eat peanuts\n",
    "'''\n",
    "\n",
    "text4 = '''Past Medical History: \n",
    "pt has history of medical events\n",
    "\n",
    "Allergies:\n",
    "peanuts\n",
    "\n",
    "Medical Assessment: pt has a fever\n",
    "Comments: fever is 101F\n",
    "'''"
   ]
  },
  {
   "cell_type": "markdown",
   "metadata": {},
   "source": [
    "# Parent-Child attachment\n",
    "Rules specify a `parents` list. This defines all possible legal parents for this section by their `section_title`. The specific parent (if any exist) of each match is determined at runtime. In this example, we define four sections and the comment section has two candidate parents."
   ]
  },
  {
   "cell_type": "code",
   "execution_count": 3,
   "metadata": {},
   "outputs": [],
   "source": [
    "nlp = spacy.load(\"en_core_web_sm\")"
   ]
  },
  {
   "cell_type": "code",
   "execution_count": 4,
   "metadata": {},
   "outputs": [],
   "source": [
    "sectionizer = Sectionizer(nlp,patterns=None)"
   ]
  },
  {
   "cell_type": "code",
   "execution_count": 5,
   "metadata": {},
   "outputs": [],
   "source": [
    "patterns = [{\"section_title\":\"past_medical_history\",\"pattern\":\"Past Medical History:\"},\n",
    "            {\"section_title\":\"allergies\",\"pattern\":\"Allergies:\"},\n",
    "            {\"section_title\":\"medical_assessment\",\"pattern\":\"Medical Assessment:\"},\n",
    "            {\"section_title\":\"comment\",\"pattern\":\"Comments:\",\"parents\":[\"past_medical_history\",\"allergies\"]}]"
   ]
  },
  {
   "cell_type": "code",
   "execution_count": 6,
   "metadata": {},
   "outputs": [],
   "source": [
    "sectionizer.add(patterns)"
   ]
  },
  {
   "cell_type": "code",
   "execution_count": 7,
   "metadata": {},
   "outputs": [],
   "source": [
    "nlp.add_pipe(sectionizer)"
   ]
  },
  {
   "cell_type": "markdown",
   "metadata": {},
   "source": [
    "We can print out the output of the sectionizer on each of these documents and see how they vary.\n",
    "\n",
    "In the first case, we see that three sections are identified in the text and the comment section has a parent \"past_medical_history\""
   ]
  },
  {
   "cell_type": "code",
   "execution_count": 8,
   "metadata": {},
   "outputs": [
    {
     "name": "stdout",
     "output_type": "stream",
     "text": [
      "TITLE................. past_medical_history\n",
      "TEXT.................. Past Medical History:\n",
      "PARENT................ None\n",
      "SECTION TEXT..........\n",
      "Past Medical History: \n",
      "pt has history of medical events\n",
      "\n",
      "----------------------\n",
      "TITLE................. comment\n",
      "TEXT.................. Comments:\n",
      "PARENT................ past_medical_history\n",
      "SECTION TEXT..........\n",
      "Comments: some comment here\n",
      "\n",
      "\n",
      "----------------------\n",
      "TITLE................. allergies\n",
      "TEXT.................. Allergies:\n",
      "PARENT................ None\n",
      "SECTION TEXT..........\n",
      "Allergies:\n",
      "peanuts\n",
      "\n",
      "----------------------\n"
     ]
    }
   ],
   "source": [
    "doc = nlp(text1)\n",
    "for title,text,parent,section in doc._.sections:\n",
    "    print(\"TITLE................. {0}\".format(title))\n",
    "    print(\"TEXT.................. {0}\".format(text))\n",
    "    print(\"PARENT................ {0}\".format(parent))\n",
    "    print(\"SECTION TEXT..........\\n{0}\".format(section))\n",
    "    print(\"----------------------\")"
   ]
  },
  {
   "cell_type": "markdown",
   "metadata": {},
   "source": [
    "In this next document, there are two comment sections, each that match to the closest parent sections. Subsections cannot jump over other sections to attach to a parent."
   ]
  },
  {
   "cell_type": "code",
   "execution_count": 9,
   "metadata": {},
   "outputs": [
    {
     "name": "stdout",
     "output_type": "stream",
     "text": [
      "TITLE................. past_medical_history\n",
      "TEXT.................. Past Medical History:\n",
      "PARENT................ None\n",
      "SECTION TEXT..........\n",
      "Past Medical History: \n",
      "pt has history of medical events\n",
      "\n",
      "----------------------\n",
      "TITLE................. comment\n",
      "TEXT.................. Comments:\n",
      "PARENT................ past_medical_history\n",
      "SECTION TEXT..........\n",
      "Comments: some comment here\n",
      "\n",
      "\n",
      "----------------------\n",
      "TITLE................. allergies\n",
      "TEXT.................. Allergies:\n",
      "PARENT................ None\n",
      "SECTION TEXT..........\n",
      "Allergies:\n",
      "peanuts\n",
      "\n",
      "----------------------\n",
      "TITLE................. comment\n",
      "TEXT.................. Comments:\n",
      "PARENT................ allergies\n",
      "SECTION TEXT..........\n",
      "Comments: pt cannot eat peanuts\n",
      "\n",
      "----------------------\n"
     ]
    }
   ],
   "source": [
    "doc = nlp(text2)\n",
    "for title,text,parent,section in doc._.sections:\n",
    "    print(\"TITLE................. {0}\".format(title))\n",
    "    print(\"TEXT.................. {0}\".format(text))\n",
    "    print(\"PARENT................ {0}\".format(parent))\n",
    "    print(\"SECTION TEXT..........\\n{0}\".format(section))\n",
    "    print(\"----------------------\")"
   ]
  },
  {
   "cell_type": "markdown",
   "metadata": {},
   "source": [
    "This example further illustrates how subsections cannot attach to non-adjacent candidate parents. The subsection in `past_medical_history` has been removed but the `allergies` subsection matches the same as before"
   ]
  },
  {
   "cell_type": "code",
   "execution_count": 10,
   "metadata": {},
   "outputs": [
    {
     "name": "stdout",
     "output_type": "stream",
     "text": [
      "TITLE................. past_medical_history\n",
      "TEXT.................. Past Medical History:\n",
      "PARENT................ None\n",
      "SECTION TEXT..........\n",
      "Past Medical History: \n",
      "pt has history of medical events\n",
      "\n",
      "\n",
      "----------------------\n",
      "TITLE................. allergies\n",
      "TEXT.................. Allergies:\n",
      "PARENT................ None\n",
      "SECTION TEXT..........\n",
      "Allergies:\n",
      "peanuts\n",
      "\n",
      "----------------------\n",
      "TITLE................. comment\n",
      "TEXT.................. Comments:\n",
      "PARENT................ allergies\n",
      "SECTION TEXT..........\n",
      "Comments: pt cannot eat peanuts\n",
      "\n",
      "----------------------\n"
     ]
    }
   ],
   "source": [
    "doc = nlp(text3)\n",
    "for title,text,parent,section in doc._.sections:\n",
    "    print(\"TITLE................. {0}\".format(title))\n",
    "    print(\"TEXT.................. {0}\".format(text))\n",
    "    print(\"PARENT................ {0}\".format(parent))\n",
    "    print(\"SECTION TEXT..........\\n{0}\".format(section))\n",
    "    print(\"----------------------\")"
   ]
  },
  {
   "cell_type": "markdown",
   "metadata": {},
   "source": [
    "This final examples shows that if no adjacent parent candidates exist, then no match will be made. `medical_assessment` was not listed as a candidate parent for `comment`, so there is no parent attachment made by the comment following this section"
   ]
  },
  {
   "cell_type": "code",
   "execution_count": 11,
   "metadata": {},
   "outputs": [
    {
     "name": "stdout",
     "output_type": "stream",
     "text": [
      "TITLE................. past_medical_history\n",
      "TEXT.................. Past Medical History:\n",
      "PARENT................ None\n",
      "SECTION TEXT..........\n",
      "Past Medical History: \n",
      "pt has history of medical events\n",
      "\n",
      "\n",
      "--------------------------\n",
      "TITLE................. allergies\n",
      "TEXT.................. Allergies:\n",
      "PARENT................ None\n",
      "SECTION TEXT..........\n",
      "Allergies:\n",
      "peanuts\n",
      "\n",
      "\n",
      "--------------------------\n",
      "TITLE................. medical_assessment\n",
      "TEXT.................. Medical Assessment:\n",
      "PARENT................ None\n",
      "SECTION TEXT..........\n",
      "Medical Assessment: pt has a fever\n",
      "\n",
      "--------------------------\n",
      "TITLE................. comment\n",
      "TEXT.................. Comments:\n",
      "PARENT................ None\n",
      "SECTION TEXT..........\n",
      "Comments: fever is 101F\n",
      "\n",
      "--------------------------\n"
     ]
    }
   ],
   "source": [
    "doc = nlp(text4)\n",
    "for title,text,parent,section in doc._.sections:\n",
    "    print(\"TITLE................. {0}\".format(title))\n",
    "    print(\"TEXT.................. {0}\".format(text))\n",
    "    print(\"PARENT................ {0}\".format(parent))\n",
    "    print(\"SECTION TEXT..........\\n{0}\".format(section))\n",
    "    print(\"--------------------------\")"
   ]
  },
  {
   "cell_type": "markdown",
   "metadata": {},
   "source": [
    "# Requiring Parents for matched sections\n",
    "\n",
    "It is possible to specify that a section is required to find a valid parent in order to be included in the resulting document. When the pattern defines the optional parameter `parent_required` as `True`, if the section finds no parent section in the document, then the section will be removed from the output.\n",
    "\n",
    "The following text shows a short example where a required parent might be useful. In this document, there are two mentions of the word \"color\". One might be part of a section, but without further specification, the other might be a false positive. There may be more than one way to solve this ambiguity, such as incorporating punctuation or proximity to line endings for further context."
   ]
  },
  {
   "cell_type": "code",
   "execution_count": 12,
   "metadata": {},
   "outputs": [],
   "source": [
    "text5 = '''Patient is 6 years old and says his favorite color is purple\n",
    "\n",
    "medical assessment\n",
    "patient has a bruise from a bicycle accident\n",
    "color\n",
    "blue\n",
    "'''"
   ]
  },
  {
   "cell_type": "code",
   "execution_count": 13,
   "metadata": {},
   "outputs": [],
   "source": [
    "nlp = spacy.load(\"en_core_web_sm\")"
   ]
  },
  {
   "cell_type": "code",
   "execution_count": 14,
   "metadata": {},
   "outputs": [],
   "source": [
    "sectionizer = Sectionizer(nlp,patterns=None)"
   ]
  },
  {
   "cell_type": "code",
   "execution_count": 15,
   "metadata": {},
   "outputs": [],
   "source": [
    "patterns = [{\"section_title\":\"medical_assessment\",\"pattern\":\"medical assessment\"},\n",
    "            {\"section_title\":\"color\",\"pattern\":\"color\",\"parents\":[\"medical_assessment\"],\"parent_required\":True}]"
   ]
  },
  {
   "cell_type": "code",
   "execution_count": 16,
   "metadata": {},
   "outputs": [],
   "source": [
    "sectionizer.add(patterns)"
   ]
  },
  {
   "cell_type": "code",
   "execution_count": 17,
   "metadata": {},
   "outputs": [],
   "source": [
    "nlp.add_pipe(sectionizer)"
   ]
  },
  {
   "cell_type": "code",
   "execution_count": 18,
   "metadata": {},
   "outputs": [
    {
     "name": "stdout",
     "output_type": "stream",
     "text": [
      "TITLE................. None\n",
      "TEXT.................. None\n",
      "PARENT................ None\n",
      "SECTION TEXT..........\n",
      "Patient is 6 years old and says his favorite color is purple\n",
      "\n",
      "\n",
      "----------------------\n",
      "TITLE................. medical_assessment\n",
      "TEXT.................. medical assessment\n",
      "PARENT................ None\n",
      "SECTION TEXT..........\n",
      "medical assessment\n",
      "patient has a bruise from a bicycle accident\n",
      "\n",
      "----------------------\n",
      "TITLE................. color\n",
      "TEXT.................. color\n",
      "PARENT................ medical_assessment\n",
      "SECTION TEXT..........\n",
      "color\n",
      "blue\n",
      "\n",
      "----------------------\n"
     ]
    }
   ],
   "source": [
    "doc = nlp(text5)\n",
    "for title,text,parent,section in doc._.sections:\n",
    "    print(\"TITLE................. {0}\".format(title))\n",
    "    print(\"TEXT.................. {0}\".format(text))\n",
    "    print(\"PARENT................ {0}\".format(parent))\n",
    "    print(\"SECTION TEXT..........\\n{0}\".format(section))\n",
    "    print(\"----------------------\")"
   ]
  },
  {
   "cell_type": "markdown",
   "metadata": {},
   "source": [
    "# Subsection trees and backtracking\n",
    "\n",
    "Subsections can be chained together and the parent matching will traverse the tree structure to match to the correct legal parent.\n",
    "\n",
    "The following two examples show deep subsection structures in a document. The first document is a simple example showing the subsection chaining that might exist in a document. The second example is more complex and shows subsection siblings (sections at the same depth of the subsection tree) and backtracking out of some, but not all subsections."
   ]
  },
  {
   "cell_type": "code",
   "execution_count": 19,
   "metadata": {},
   "outputs": [],
   "source": [
    "text6 = '''Section 1: some text\n",
    "Section 1.1: Some other text\n",
    "Section 1.1.1: Even more text\n",
    "Section 1.1.1.1: How deep can sections go?\n",
    "'''\n",
    "\n",
    "text7 = '''Section 1: some text\n",
    "Section 1.1: Some other text\n",
    "Section 1.1.1: Even more text\n",
    "Section 1.1.1.1: How deep can sections go?\n",
    "Section 1.1.1.2: As deep as you want!\n",
    "Section 1.2: Let's backtrack\n",
    "Section 2: A whole new section\n",
    "'''"
   ]
  },
  {
   "cell_type": "code",
   "execution_count": 20,
   "metadata": {},
   "outputs": [],
   "source": [
    "nlp = spacy.load(\"en_core_web_sm\")"
   ]
  },
  {
   "cell_type": "code",
   "execution_count": 21,
   "metadata": {},
   "outputs": [],
   "source": [
    "sectionizer = Sectionizer(nlp,patterns=None)"
   ]
  },
  {
   "cell_type": "code",
   "execution_count": 22,
   "metadata": {},
   "outputs": [],
   "source": [
    "patterns = [{\"section_title\":\"s1\",\"pattern\":\"Section 1:\"},\n",
    "            {\"section_title\":\"s1.1\",\"pattern\":\"Section 1.1:\", \"parents\":[\"s1\"]},\n",
    "            {\"section_title\":\"s1.1.1\",\"pattern\":\"Section 1.1.1:\", \"parents\":[\"s1.1\"]},\n",
    "            {\"section_title\":\"s1.1.1.1\",\"pattern\":\"Section 1.1.1.1:\",\"parents\":[\"s1.1.1\"]},\n",
    "            {\"section_title\":\"s1.1.1.2\",\"pattern\":\"Section 1.1.1.2:\",\"parents\":[\"s1.1.1\"]},\n",
    "            {\"section_title\":\"s1.2\",\"pattern\":\"Section 1.2:\",\"parents\":[\"s1\"]},\n",
    "            {\"section_title\":\"s2\",\"pattern\":\"Section 2:\"}]"
   ]
  },
  {
   "cell_type": "code",
   "execution_count": 23,
   "metadata": {},
   "outputs": [],
   "source": [
    "sectionizer.add(patterns)"
   ]
  },
  {
   "cell_type": "code",
   "execution_count": 24,
   "metadata": {},
   "outputs": [],
   "source": [
    "nlp.add_pipe(sectionizer)"
   ]
  },
  {
   "cell_type": "code",
   "execution_count": 25,
   "metadata": {},
   "outputs": [
    {
     "name": "stdout",
     "output_type": "stream",
     "text": [
      "TITLE................. s1\n",
      "TEXT.................. Section 1:\n",
      "PARENT................ None\n",
      "SECTION TEXT..........\n",
      "Section 1: some text\n",
      "\n",
      "----------------------\n",
      "TITLE................. s1.1\n",
      "TEXT.................. Section 1.1:\n",
      "PARENT................ s1\n",
      "SECTION TEXT..........\n",
      "Section 1.1: Some other text\n",
      "\n",
      "----------------------\n",
      "TITLE................. s1.1.1\n",
      "TEXT.................. Section 1.1.1:\n",
      "PARENT................ s1.1\n",
      "SECTION TEXT..........\n",
      "Section 1.1.1: Even more text\n",
      "\n",
      "----------------------\n",
      "TITLE................. s1.1.1.1\n",
      "TEXT.................. Section 1.1.1.1:\n",
      "PARENT................ s1.1.1\n",
      "SECTION TEXT..........\n",
      "Section 1.1.1.1: How deep can sections go?\n",
      "\n",
      "----------------------\n"
     ]
    }
   ],
   "source": [
    "doc = nlp(text6)\n",
    "for title,text,parent,section in doc._.sections:\n",
    "    print(\"TITLE................. {0}\".format(title))\n",
    "    print(\"TEXT.................. {0}\".format(text))\n",
    "    print(\"PARENT................ {0}\".format(parent))\n",
    "    print(\"SECTION TEXT..........\\n{0}\".format(section))\n",
    "    print(\"----------------------\")"
   ]
  },
  {
   "cell_type": "code",
   "execution_count": 26,
   "metadata": {},
   "outputs": [
    {
     "name": "stdout",
     "output_type": "stream",
     "text": [
      "TITLE................. s1\n",
      "TEXT.................. Section 1:\n",
      "PARENT................ None\n",
      "SECTION TEXT..........\n",
      "Section 1: some text\n",
      "\n",
      "----------------------\n",
      "TITLE................. s1.1\n",
      "TEXT.................. Section 1.1:\n",
      "PARENT................ s1\n",
      "SECTION TEXT..........\n",
      "Section 1.1: Some other text\n",
      "\n",
      "----------------------\n",
      "TITLE................. s1.1.1\n",
      "TEXT.................. Section 1.1.1:\n",
      "PARENT................ s1.1\n",
      "SECTION TEXT..........\n",
      "Section 1.1.1: Even more text\n",
      "\n",
      "----------------------\n",
      "TITLE................. s1.1.1.1\n",
      "TEXT.................. Section 1.1.1.1:\n",
      "PARENT................ s1.1.1\n",
      "SECTION TEXT..........\n",
      "Section 1.1.1.1: How deep can sections go?\n",
      "\n",
      "----------------------\n",
      "TITLE................. s1.1.1.2\n",
      "TEXT.................. Section 1.1.1.2:\n",
      "PARENT................ s1.1.1\n",
      "SECTION TEXT..........\n",
      "Section 1.1.1.2: As deep as you want!\n",
      "\n",
      "----------------------\n",
      "TITLE................. s1.2\n",
      "TEXT.................. Section 1.2:\n",
      "PARENT................ s1\n",
      "SECTION TEXT..........\n",
      "Section 1.2: Let's backtrack\n",
      "\n",
      "----------------------\n",
      "TITLE................. s2\n",
      "TEXT.................. Section 2:\n",
      "PARENT................ None\n",
      "SECTION TEXT..........\n",
      "Section 2: A whole new section\n",
      "\n",
      "----------------------\n"
     ]
    }
   ],
   "source": [
    "doc = nlp(text7)\n",
    "for title,text,parent,section in doc._.sections:\n",
    "    print(\"TITLE................. {0}\".format(title))\n",
    "    print(\"TEXT.................. {0}\".format(text))\n",
    "    print(\"PARENT................ {0}\".format(parent))\n",
    "    print(\"SECTION TEXT..........\\n{0}\".format(section))\n",
    "    print(\"----------------------\")"
   ]
  },
  {
   "cell_type": "code",
   "execution_count": null,
   "metadata": {},
   "outputs": [],
   "source": []
  }
 ],
 "metadata": {
  "kernelspec": {
   "display_name": "Python 3",
   "language": "python",
   "name": "python3"
  },
  "language_info": {
   "codemirror_mode": {
    "name": "ipython",
    "version": 3
   },
   "file_extension": ".py",
   "mimetype": "text/x-python",
   "name": "python",
   "nbconvert_exporter": "python",
   "pygments_lexer": "ipython3",
   "version": "3.7.9"
  }
 },
 "nbformat": 4,
 "nbformat_minor": 4
}
